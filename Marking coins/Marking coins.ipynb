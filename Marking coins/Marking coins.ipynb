{
 "cells": [
  {
   "cell_type": "code",
   "execution_count": 1,
   "metadata": {},
   "outputs": [],
   "source": [
    "import cv2\n",
    "import numpy as np\n",
    "def showit(ima): # function to show images quickly and more easily\n",
    "    cv2.imshow(\"window\",ima)\n",
    "    cv2.waitKey(0)\n",
    "    cv2.destroyAllWindows()"
   ]
  },
  {
   "cell_type": "code",
   "execution_count": 10,
   "metadata": {},
   "outputs": [
    {
     "name": "stdout",
     "output_type": "stream",
     "text": [
      "(491, 850)\n"
     ]
    }
   ],
   "source": [
    "imag=cv2.imread(\"coins3.jpg\",0) # black-white image for houghcircle function to work on\n",
    "imag_temp=cv2.imread(\"coins3.jpg\") # original coloured image for display of result in original image\n",
    "showit(imag)\n",
    "print(imag.shape)\n",
    "white=np.zeros((imag.shape[0],imag.shape[1])) #template image for masking\n",
    "#print(white.shape)\n",
    "#showit(white)"
   ]
  },
  {
   "cell_type": "code",
   "execution_count": 14,
   "metadata": {
    "scrolled": true
   },
   "outputs": [],
   "source": [
    "#thresh=cv2.threshold(imag,)\n",
    "ret,thresh = cv2.threshold(imag,200,255,cv2.THRESH_BINARY)\n",
    "showit(thresh)\n",
    "circles=cv2.HoughCircles(thresh,cv2.HOUGH_GRADIENT,1.2,100) # Finding circles/Coins in the image\n",
    "print(ci)\n",
    "if circles is not None:\n",
    "    circles = np.round(circles[0, :]).astype(\"int\")\n",
    "    print(circles)\n",
    "    for x,y,r in circles:\n",
    "        print((x-r,y-r),(x+r,y+r)) # Printing Coins marking coordinates \n",
    "        cv2.rectangle(imag_temp,(x-r,y-r),(x+r,y+r),(255,255,0),2) # drawing rectangular lines around the coins\n",
    "        \n",
    "        #cv2.rectangle(white,(x-r,y-r),(x+r,y+r),(255,255,256),4) # Test Images rectangles\n",
    "        #cv2.circle(imag_temp, (x, y), r, (0, 255, 0), 4)\n",
    "        #cv2.rectangle(imag_temp, (x - 5, y - 5), (x + 5, y + 5), (0, 128, 255), 4)\n",
    "        \n",
    "showit(imag_temp) # final Image Display\n",
    "#showit(white)"
   ]
  },
  {
   "cell_type": "code",
   "execution_count": null,
   "metadata": {},
   "outputs": [],
   "source": []
  },
  {
   "cell_type": "code",
   "execution_count": null,
   "metadata": {},
   "outputs": [],
   "source": []
  }
 ],
 "metadata": {
  "kernelspec": {
   "display_name": "Python 3",
   "language": "python",
   "name": "python3"
  },
  "language_info": {
   "codemirror_mode": {
    "name": "ipython",
    "version": 3
   },
   "file_extension": ".py",
   "mimetype": "text/x-python",
   "name": "python",
   "nbconvert_exporter": "python",
   "pygments_lexer": "ipython3",
   "version": "3.8.3"
  }
 },
 "nbformat": 4,
 "nbformat_minor": 4
}
